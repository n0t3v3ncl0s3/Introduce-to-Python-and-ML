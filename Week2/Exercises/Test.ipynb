{
 "cells": [
  {
   "cell_type": "code",
   "execution_count": 1,
   "id": "71efb582",
   "metadata": {},
   "outputs": [
    {
     "name": "stdout",
     "output_type": "stream",
     "text": [
      "[1, 2, 3, 4, 5, 6, 7, 8, 9, 10]\n"
     ]
    }
   ],
   "source": [
    "list_numbers = [1,2,3,4,5,6,7,8,9,10]\n",
    "print(list_numbers)"
   ]
  },
  {
   "cell_type": "code",
   "execution_count": 2,
   "id": "6f55f054",
   "metadata": {},
   "outputs": [
    {
     "name": "stdout",
     "output_type": "stream",
     "text": [
      "['dog', 'cat', 'chicken']\n",
      "[4, 4, 2]\n"
     ]
    }
   ],
   "source": [
    "num_legs = {\n",
    "    'dog' : 4,\n",
    "    'cat' : 4,\n",
    "    'chicken': 2\n",
    "}\n",
    "keys = list(num_legs.keys())\n",
    "values = list(num_legs.values())\n",
    "print(keys)\n",
    "print(values)"
   ]
  },
  {
   "cell_type": "code",
   "execution_count": 3,
   "id": "9aa7e510",
   "metadata": {},
   "outputs": [
    {
     "name": "stdout",
     "output_type": "stream",
     "text": [
      "[1, 4, 9, 16, 25, 36, 49, 64, 81, 100]\n"
     ]
    }
   ],
   "source": [
    "squares = [i*i for i in range(1,11)]\n",
    "print(squares)"
   ]
  },
  {
   "cell_type": "code",
   "execution_count": 4,
   "id": "559da060",
   "metadata": {},
   "outputs": [
    {
     "name": "stdout",
     "output_type": "stream",
     "text": [
      "[2, 4, 6, 8, 10, 12, 14, 16, 18, 20]\n"
     ]
    }
   ],
   "source": [
    "even_numbers = [i for i in range(1,21) if i%2==0]\n",
    "print(even_numbers)"
   ]
  },
  {
   "cell_type": "code",
   "execution_count": 5,
   "id": "0c9e57c6",
   "metadata": {},
   "outputs": [
    {
     "name": "stdout",
     "output_type": "stream",
     "text": [
      "[1, 4, 6, 3, 2, 4]\n"
     ]
    }
   ],
   "source": [
    "sentence = \"I love ML&IoT lab so much\"\n",
    "word_lengths = [len(word) for word in sentence.split()] \n",
    "print(word_lengths)"
   ]
  },
  {
   "cell_type": "code",
   "execution_count": 6,
   "id": "bf7fd467",
   "metadata": {},
   "outputs": [
    {
     "name": "stdout",
     "output_type": "stream",
     "text": [
      "4\n"
     ]
    }
   ],
   "source": [
    "square = lambda x : x*x\n",
    "print(square(2))"
   ]
  },
  {
   "cell_type": "code",
   "execution_count": 7,
   "id": "a83979a1",
   "metadata": {},
   "outputs": [
    {
     "name": "stdout",
     "output_type": "stream",
     "text": [
      "True\n"
     ]
    }
   ],
   "source": [
    "divisible_by_3 = lambda x : x%3==0\n",
    "print(divisible_by_3(6))"
   ]
  },
  {
   "cell_type": "code",
   "execution_count": 8,
   "id": "0ebac52b",
   "metadata": {},
   "outputs": [
    {
     "name": "stdout",
     "output_type": "stream",
     "text": [
      "[6, 7, 9]\n"
     ]
    }
   ],
   "source": [
    "numbers = [1, 4, 6, 7, 2, 9, 3]\n",
    "greater_than_5 = filter(lambda x: x > 5, numbers)\n",
    "print(list(greater_than_5))"
   ]
  },
  {
   "cell_type": "code",
   "execution_count": 9,
   "id": "c5181883",
   "metadata": {},
   "outputs": [
    {
     "name": "stdout",
     "output_type": "stream",
     "text": [
      "[2, 4, 6, 8, 10]\n"
     ]
    }
   ],
   "source": [
    "numbers_to_double = [1, 2, 3, 4, 5] \n",
    "doubled_numbers = map(lambda x:2*x,numbers_to_double)\n",
    "print(list(doubled_numbers))"
   ]
  },
  {
   "cell_type": "code",
   "execution_count": 10,
   "id": "0472b5b6",
   "metadata": {},
   "outputs": [
    {
     "name": "stdout",
     "output_type": "stream",
     "text": [
      "15\n"
     ]
    }
   ],
   "source": [
    "from functools import reduce\n",
    "numbers_to_sum = [1, 2, 3, 4, 5]\n",
    "total_sum = reduce(lambda x,num:x+num,numbers_to_sum,0)\n",
    "print(total_sum)"
   ]
  },
  {
   "cell_type": "code",
   "execution_count": 11,
   "id": "a812bbe2",
   "metadata": {},
   "outputs": [
    {
     "name": "stdout",
     "output_type": "stream",
     "text": [
      "0.5\n",
      "0\n",
      "0.0\n"
     ]
    }
   ],
   "source": [
    "import math\n",
    "\n",
    "class ActivationFunction:\n",
    "    def __init__(self):\n",
    "        pass\n",
    "\n",
    "    def forward(self, x):\n",
    "        \"\"\"\n",
    "        TODO: Ghi đè (override) phương thức này ở lớp con để tính đầu ra của hàm kích hoạt.\n",
    "        :param x: một số thực (float)\n",
    "        :return: một số thực (float)\n",
    "        \"\"\"\n",
    "        return x\n",
    "\n",
    "\n",
    "class Sigmoid(ActivationFunction):\n",
    "    def forward(self, x):\n",
    "        \"\"\"\n",
    "        TODO: Hiện thực hàm sigmoid: sigmoid(x) = 1 / (1 + exp(-x))\n",
    "        \"\"\"\n",
    "        return 1 / (1 + math.exp(-x))\n",
    "        pass\n",
    "\n",
    "\n",
    "class ReLU(ActivationFunction):\n",
    "    def forward(self, x):\n",
    "        \"\"\"\n",
    "        TODO: Hiện thực hàm ReLU: relu(x) = max(0, x)\n",
    "        \"\"\"\n",
    "        return max(0, x)\n",
    "        pass\n",
    "\n",
    "\n",
    "class Tanh(ActivationFunction):\n",
    "    def forward(self, x):\n",
    "        \"\"\"\n",
    "        TODO: Hiện thực hàm tanh: tanh(x) = (exp(x) - exp(-x)) / (exp(x) + exp(-x))\n",
    "        \"\"\"\n",
    "        return (math.exp(x) - math.exp(-x)) / (math.exp(x) + math.exp(-x))\n",
    "        pass\n",
    "sigmoid = Sigmoid()\n",
    "relu = ReLU()\n",
    "tanh = Tanh()\n",
    "\n",
    "print(sigmoid.forward(0))    # 0.5\n",
    "print(relu.forward(-3))      # 0\n",
    "print(tanh.forward(0))       # 0.0"
   ]
  }
 ],
 "metadata": {
  "kernelspec": {
   "display_name": "Python 3",
   "language": "python",
   "name": "python3"
  },
  "language_info": {
   "codemirror_mode": {
    "name": "ipython",
    "version": 3
   },
   "file_extension": ".py",
   "mimetype": "text/x-python",
   "name": "python",
   "nbconvert_exporter": "python",
   "pygments_lexer": "ipython3",
   "version": "undefined.undefined.undefined"
  }
 },
 "nbformat": 4,
 "nbformat_minor": 5
}
