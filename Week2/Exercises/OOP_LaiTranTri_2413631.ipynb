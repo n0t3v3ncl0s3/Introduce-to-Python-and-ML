{
 "cells": [
  {
   "cell_type": "markdown",
   "id": "8f8241d6",
   "metadata": {},
   "source": [
    "**I.Câu hỏi tự luận**"
   ]
  },
  {
   "cell_type": "markdown",
   "id": "7faaaa20",
   "metadata": {},
   "source": [
    "I.1 Xây dựng class tính Sigmoid"
   ]
  },
  {
   "cell_type": "code",
   "execution_count": 1,
   "id": "2e3b4b75",
   "metadata": {},
   "outputs": [
    {
     "name": "stdout",
     "output_type": "stream",
     "text": [
      "[0.7310585786300049, 0.9933071490757153, 0.01798620996209156, 0.9525741268224334, 0.11920292202211755]\n"
     ]
    }
   ],
   "source": [
    "import math\n",
    "class sigmoid:\n",
    "    def __init__(self,data):\n",
    "        self.data = list(1/(1+math.exp(-x)) for x in data)\n",
    "    def __str__(self):\n",
    "        return str(self.data)\n",
    "\n",
    "data = [1,5,-4,3,-2]\n",
    "data_a = sigmoid(data)\n",
    "print(data_a)"
   ]
  },
  {
   "cell_type": "markdown",
   "id": "a5d6feb3",
   "metadata": {},
   "source": [
    " I.2. Xây dựng Ward"
   ]
  },
  {
   "cell_type": "code",
   "execution_count": 2,
   "id": "19c07e79",
   "metadata": {},
   "outputs": [
    {
     "name": "stdout",
     "output_type": "stream",
     "text": [
      "Student - Name: studentA - YoB: 2010 - Grade: 7\n",
      "Teacher - Name: teacherA - YoB: 1969 - Subject: Math\n",
      "Doctor - Name: doctorA - YoB: 1945 - Specialist: Endocrinologists\n",
      "\n",
      "Ward Name:  Ward1\n",
      "Student - Name: studentA - YoB: 2010 - Grade: 7\n",
      "Teacher - Name: teacherA - YoB: 1969 - Subject: Math\n",
      "Teacher - Name: teacherB - YoB: 1995 - Subject: History\n",
      "Doctor - Name: doctorA - YoB: 1945 - Specialist: Endocrinologists\n",
      "Doctor - Name: doctorB - YoB: 1975 - Specialist: Cardiologists\n",
      "\n",
      "Number of doctors: 2\n",
      "\n",
      "After sorting Age of Ward1 people\n",
      "Ward Name:  Ward1\n",
      "Student - Name: studentA - YoB: 2010 - Grade: 7\n",
      "Teacher - Name: teacherB - YoB: 1995 - Subject: History\n",
      "Doctor - Name: doctorB - YoB: 1975 - Specialist: Cardiologists\n",
      "Teacher - Name: teacherA - YoB: 1969 - Subject: Math\n",
      "Doctor - Name: doctorA - YoB: 1945 - Specialist: Endocrinologists\n",
      "\n",
      "Average year of birth (teachers): 1982.0\n"
     ]
    }
   ],
   "source": [
    "class Person:\n",
    "    def __init__(self,name:str,yob:int):\n",
    "        self.name = name\n",
    "        self.yob = yob\n",
    "    def describe(self):\n",
    "        pass\n",
    "\n",
    "class Student(Person):\n",
    "    def __init__(self,name:str,yob:int,grade:str):\n",
    "        super().__init__(name,yob)\n",
    "        self.grade = grade\n",
    "    def describe(self): \n",
    "        print(self)\n",
    "    def __str__(self):\n",
    "        return f\"Student - Name: {self.name} - YoB: {self.yob} - Grade: {self.grade}\"\n",
    "\n",
    "\n",
    "class Doctor(Person):\n",
    "    def __init__(self,name:str,yob:int,specialist:str):\n",
    "        super().__init__(name,yob)\n",
    "        self.specialist = specialist\n",
    "    def describe(self): \n",
    "        print(self)\n",
    "    def __str__(self):\n",
    "        return f\"Doctor - Name: {self.name} - YoB: {self.yob} - Specialist: {self.specialist}\"\n",
    "\n",
    "class Teacher(Person):\n",
    "    def __init__(self,name:str,yob:int,subject:str):\n",
    "        super().__init__(name,yob)\n",
    "        self.subject = subject\n",
    "    def describe(self): \n",
    "        print(self)\n",
    "    def __str__(self):\n",
    "        return f\"Teacher - Name: {self.name} - YoB: {self.yob} - Subject: {self.subject}\"\n",
    "\n",
    "class Ward:\n",
    "    def __init__(self,name):\n",
    "        self.name = name;\n",
    "        self.list = list()\n",
    "    \n",
    "    def addPerson(self,person:Person):\n",
    "        self.list.append(person)\n",
    "\n",
    "    def describe(self):\n",
    "        print('Ward Name: ',self.name)\n",
    "        for person in self.list:\n",
    "            person.describe()\n",
    "    \n",
    "    def countDoctor(self):\n",
    "        count=0\n",
    "        for person in self.list:\n",
    "            if isinstance(person, Doctor): count+=1\n",
    "        return count\n",
    "    def sortAge(self):\n",
    "        self.list = sorted(self.list, key=lambda p: p.yob, reverse=True)\n",
    "    \n",
    "    def aveTeacherYearOfBirth(self):\n",
    "        count=0 \n",
    "        total=0\n",
    "        for person in self.list:\n",
    "            if isinstance(person, Teacher): \n",
    "                count+=1\n",
    "                total+=person.yob\n",
    "        return total/count\n",
    "        \n",
    "\n",
    "#Examples\n",
    "#2\n",
    "student1 = Student(name=\"studentA\", yob=2010, grade=\"7\")\n",
    "student1.describe()\n",
    "\n",
    "teacher1 = Teacher(name=\"teacherA\", yob=1969, subject=\"Math\")\n",
    "teacher1.describe()\n",
    "\n",
    "doctor1 = Doctor(name=\"doctorA\", yob=1945, specialist=\"Endocrinologists\")\n",
    "doctor1.describe()\n",
    "\n",
    "# 2(b)\n",
    "print()\n",
    "teacher2 = Teacher(name=\"teacherB\", yob=1995, subject=\"History\")\n",
    "doctor2 = Doctor(name=\"doctorB\", yob=1975, specialist=\"Cardiologists\")\n",
    "ward1 = Ward(name=\"Ward1\")\n",
    "ward1.addPerson(student1)\n",
    "ward1.addPerson(teacher1)\n",
    "ward1.addPerson(teacher2)\n",
    "ward1.addPerson(doctor1)\n",
    "ward1.addPerson(doctor2)\n",
    "ward1.describe()\n",
    "\n",
    "# 2(c)\n",
    "print(f\"\\nNumber of doctors: {ward1.countDoctor()}\")\n",
    "\n",
    "# 2(d)\n",
    "print(\"\\nAfter sorting Age of Ward1 people\")\n",
    "ward1.sortAge()\n",
    "ward1.describe()\n",
    "\n",
    "# 2(e)\n",
    "print(f\"\\nAverage year of birth (teachers): {ward1.aveTeacherYearOfBirth()}\")"
   ]
  },
  {
   "cell_type": "markdown",
   "id": "a4b81ce3",
   "metadata": {},
   "source": [
    " I.3. Xây dựng class Stack"
   ]
  },
  {
   "cell_type": "code",
   "execution_count": 3,
   "id": "c111f789",
   "metadata": {},
   "outputs": [
    {
     "name": "stdout",
     "output_type": "stream",
     "text": [
      "False\n",
      "2\n",
      "2\n",
      "1\n",
      "1\n",
      "True\n"
     ]
    }
   ],
   "source": [
    "class Stack:\n",
    "    def __init__(self,capacity):\n",
    "        self.list = list()\n",
    "        self.cap = capacity\n",
    "    def isEmpty(self):\n",
    "        return len(self.list)==0\n",
    "    def isFull(self):\n",
    "        return len(self.list)==self.cap\n",
    "    def pop(self):\n",
    "        if not self.isEmpty():\n",
    "            return self.list.pop(0)\n",
    "    def push(self,value):\n",
    "        if not self.isFull():\n",
    "            self.list.insert(0,value)\n",
    "    def top(self):\n",
    "        if not self.isEmpty():\n",
    "            return self.list[0]\n",
    "\n",
    "stack1 = Stack(capacity=5)\n",
    "stack1.push(1)\n",
    "stack1.push(2)\n",
    "print(stack1.isFull())\n",
    "print(stack1.top())\n",
    " \n",
    "print(stack1.pop())\n",
    " \n",
    "print(stack1.top())\n",
    "\n",
    "print(stack1.pop())\n",
    " \n",
    "print(stack1.isEmpty())"
   ]
  },
  {
   "cell_type": "markdown",
   "id": "832215d0",
   "metadata": {},
   "source": [
    "I.4. Xây dựng class Queue"
   ]
  },
  {
   "cell_type": "code",
   "execution_count": 4,
   "id": "649ef7f8",
   "metadata": {},
   "outputs": [
    {
     "name": "stdout",
     "output_type": "stream",
     "text": [
      "False\n",
      "1\n",
      "1\n",
      "2\n",
      "2\n",
      "True\n"
     ]
    }
   ],
   "source": [
    "class Queue:\n",
    "    def __init__(self,capacity):\n",
    "        self.cap = capacity\n",
    "        self.list = list()\n",
    "    def isEmpty(self):\n",
    "        return len(self.list)==0\n",
    "    def isFull(self):\n",
    "        return len(self.list)==self.cap\n",
    "    def dequeue(self):\n",
    "        if not self.isEmpty():\n",
    "            return self.list.pop(0)\n",
    "    def enqueue(self,value):\n",
    "        if not self.isFull():\n",
    "            self.list.append(value)\n",
    "    def front(self):\n",
    "        if not self.isEmpty():\n",
    "            return self.list[0]\n",
    "queue1 = Queue(capacity=5)\n",
    "queue1.enqueue(1)\n",
    "queue1.enqueue(2)\n",
    "print(queue1.isFull())\n",
    "print(queue1.front())\n",
    " \n",
    "print(queue1.dequeue())\n",
    " \n",
    "print(queue1.front())\n",
    "\n",
    "print(queue1.dequeue())\n",
    " \n",
    "print(queue1.isEmpty())"
   ]
  },
  {
   "cell_type": "markdown",
   "id": "02d95f66",
   "metadata": {},
   "source": [
    "**II. Câu hỏi trắc nghiệm**"
   ]
  },
  {
   "cell_type": "code",
   "execution_count": 5,
   "id": "378aaa32",
   "metadata": {},
   "outputs": [
    {
     "name": "stdout",
     "output_type": "stream",
     "text": [
      "tensor([0.9933, 0.9526])\n"
     ]
    }
   ],
   "source": [
    "import torch\n",
    "# input data\n",
    "x = torch.tensor([5.0, 3.0])\n",
    "# sigmoid function\n",
    "output = torch.sigmoid(x)\n",
    "print(output)"
   ]
  },
  {
   "cell_type": "markdown",
   "id": "6f033ef4",
   "metadata": {},
   "source": [
    "\n",
    "1 (c) [0.9933, 0.9526].\n",
    " "
   ]
  },
  {
   "cell_type": "code",
   "execution_count": 6,
   "id": "889964b6",
   "metadata": {},
   "outputs": [
    {
     "name": "stdout",
     "output_type": "stream",
     "text": [
      "tensor([0.9526, 0.1192])\n"
     ]
    }
   ],
   "source": [
    "import torch\n",
    "import torch.nn as nn\n",
    "\n",
    "class MySigmoid(nn.Module):\n",
    "    def __init__(self):\n",
    "        super().__init__()\n",
    "\n",
    "    def forward(self, x):\n",
    "        return 1 / (1 + torch.exp(-x))\n",
    "\n",
    "# Input\n",
    "data = torch.Tensor([3.0, -2.0])\n",
    "my_sigmoid = MySigmoid()\n",
    "output = my_sigmoid(data)\n",
    "print(output)"
   ]
  },
  {
   "cell_type": "markdown",
   "id": "fae7191e",
   "metadata": {},
   "source": [
    "2 (b) [0.9526, 0.1192]."
   ]
  },
  {
   "cell_type": "code",
   "execution_count": 7,
   "id": "2f80ea95",
   "metadata": {},
   "outputs": [
    {
     "name": "stdout",
     "output_type": "stream",
     "text": [
      "Student - Name: studentZ2023 - YoB: 2011 - Grade: 6\n"
     ]
    }
   ],
   "source": [
    "from abc import ABC, abstractmethod\n",
    "\n",
    "class Person(ABC):\n",
    "    def __init__(self, name:str, yob:int):\n",
    "        self._name = name\n",
    "        self._yob = yob\n",
    "    def getYoB(self):\n",
    "        return self._yob\n",
    "    @abstractmethod\n",
    "    def describe(self):\n",
    "        pass\n",
    "class Student(Person):\n",
    "    def __init__(self, name:str, yob:int, grade:str):\n",
    "    ### Your Code Here\n",
    "        super().__init__(name,yob)\n",
    "        self._grade = grade\n",
    "    ### End Code Here\n",
    "    def describe(self):\n",
    "    ### Your Code Here\n",
    "        print(self)\n",
    "    def __str__(self):\n",
    "        return f\"Student - Name: {self._name} - YoB: {self._yob} - Grade: {self._grade}\"\n",
    "    ### End Code Here\n",
    "student1 = Student(name=\"studentZ2023\", yob=2011, grade=\"6\") \n",
    "student1.describe()"
   ]
  },
  {
   "cell_type": "markdown",
   "id": "70a35a55",
   "metadata": {},
   "source": [
    "3 (a) Student- Name: studentZ2023- YoB: 2011- Grade: 6."
   ]
  },
  {
   "cell_type": "code",
   "execution_count": 8,
   "id": "bac42f9e",
   "metadata": {},
   "outputs": [
    {
     "name": "stdout",
     "output_type": "stream",
     "text": [
      "Teacher - Name: teacherZ2023 - YoB: 1991 - Subject: History\n"
     ]
    }
   ],
   "source": [
    "from abc import ABC, abstractmethod\n",
    "\n",
    "class Person(ABC):\n",
    "    def __init__(self, name:str, yob:int):\n",
    "        self._name = name\n",
    "        self._yob = yob\n",
    "    def getYoB(self):\n",
    "        return self._yob\n",
    "    @abstractmethod\n",
    "    def describe(self):\n",
    "        pass\n",
    "class Teacher(Person):\n",
    "    def __init__(self, name:str, yob:int, subject:str):\n",
    "    ### Your Code Here\n",
    "        super().__init__(name,yob)\n",
    "        self._subject = subject\n",
    "    ### End Code Here\n",
    "    def describe(self):\n",
    "    ### Your Code Here\n",
    "        print(self)\n",
    "    def __str__(self):\n",
    "        return f\"Teacher - Name: {self._name} - YoB: {self._yob} - Subject: {self._subject}\"\n",
    "    ### End Code Here\n",
    "teacher1 = Teacher(name=\"teacherZ2023\", yob=1991, subject=\"History\") \n",
    "teacher1.describe()"
   ]
  },
  {
   "cell_type": "markdown",
   "id": "8cdb2c8c",
   "metadata": {},
   "source": [
    "4 (b) Teacher- Name: teacherZ2023- YoB: 1991- Subject: History."
   ]
  },
  {
   "cell_type": "code",
   "execution_count": 9,
   "id": "fa3b2775",
   "metadata": {},
   "outputs": [
    {
     "name": "stdout",
     "output_type": "stream",
     "text": [
      "Doctor - Name: doctorZ2023 - YoB: 1981 - Specialist: Endocrinologists\n"
     ]
    }
   ],
   "source": [
    "from abc import ABC, abstractmethod\n",
    "\n",
    "class Person(ABC):\n",
    "    def __init__(self, name:str, yob:int):\n",
    "        self._name = name\n",
    "        self._yob = yob\n",
    "    def getYoB(self):\n",
    "        return self._yob\n",
    "    @abstractmethod\n",
    "    def describe(self):\n",
    "        pass\n",
    "class Doctor(Person):\n",
    "    def __init__(self, name:str, yob:int, specialist:str):\n",
    "    ### Your Code Here\n",
    "        super().__init__(name,yob)\n",
    "        self._specialist = specialist\n",
    "    ### End Code Here\n",
    "    def describe(self):\n",
    "    ### Your Code Here\n",
    "        print(self)\n",
    "    def __str__(self):\n",
    "        return f\"Doctor - Name: {self._name} - YoB: {self._yob} - Specialist: {self._specialist}\"\n",
    "    ### End Code Here\n",
    "doctor1 = Doctor(name=\"doctorZ2023\", yob=1981, specialist=\"Endocrinologists\")\n",
    "doctor1.describe()"
   ]
  },
  {
   "cell_type": "markdown",
   "id": "83c27dd7",
   "metadata": {},
   "source": [
    "5 (a) Doctor- Name: doctorZ2023- YoB: 1981- Specialist: Endocrinologists."
   ]
  },
  {
   "cell_type": "code",
   "execution_count": 10,
   "id": "689af47d",
   "metadata": {},
   "outputs": [
    {
     "data": {
      "text/plain": [
       "2"
      ]
     },
     "execution_count": 10,
     "metadata": {},
     "output_type": "execute_result"
    }
   ],
   "source": [
    "class Ward:\n",
    "    def __init__(self, name:str):\n",
    "        self.__name = name\n",
    "        self.__listPeople = list()\n",
    "    def addPerson(self, person:Person):\n",
    "        self.__listPeople.append(person)\n",
    "    def describe(self):\n",
    "        print(f\"Ward Name: {self.__name}\")\n",
    "        for p in self.__listPeople:\n",
    "            p.describe()\n",
    "    def countDoctor(self):\n",
    "    ### Your Code Here\n",
    "        count=0\n",
    "        for person in self.__listPeople:\n",
    "            if isinstance(person, Doctor): count+=1\n",
    "        return count\n",
    "     ### End Code Here\n",
    "student1 = Student(name=\"studentA\", yob=2010, grade=\"7\")\n",
    "teacher1 = Teacher(name=\"teacherA\", yob=1969, subject=\"Math\")\n",
    "teacher2 = Teacher(name=\"teacherB\", yob=1995, subject=\"History\")\n",
    "doctor1 = Doctor(name=\"doctorA\", yob=1945, specialist=\"Endocrinologists\")\n",
    "doctor2 = Doctor(name=\"doctorB\", yob=1975, specialist=\"Cardiologists\")\n",
    "ward1 = Ward(name=\"Ward1\")\n",
    "ward1.addPerson(student1)\n",
    "ward1.addPerson(teacher1)\n",
    "ward1.addPerson(teacher2)\n",
    "ward1.addPerson(doctor1)\n",
    "ward1.addPerson(doctor2)\n",
    "ward1.countDoctor()"
   ]
  },
  {
   "cell_type": "markdown",
   "id": "7e981a19",
   "metadata": {},
   "source": [
    "6 (c) 2."
   ]
  },
  {
   "cell_type": "code",
   "execution_count": 11,
   "id": "518f24da",
   "metadata": {},
   "outputs": [
    {
     "name": "stdout",
     "output_type": "stream",
     "text": [
      "False\n"
     ]
    }
   ],
   "source": [
    "class MyStack:\n",
    "    def __init__(self, capacity):\n",
    "        self.__capacity = capacity\n",
    "        self.__stack = []\n",
    "    def isFull(self):\n",
    "        return len(self.__stack) == self.__capacity\n",
    "    def push(self, value):\n",
    "    ### Your Code Here\n",
    "        if not self.isFull():\n",
    "            self.__stack.insert(0,value)\n",
    "    ### End Code Here\n",
    "stack1 = MyStack(capacity=5)\n",
    "stack1.push(1)\n",
    "stack1.push(2)\n",
    "print(stack1.isFull())"
   ]
  },
  {
   "cell_type": "markdown",
   "id": "849c7cb2",
   "metadata": {},
   "source": [
    "7 (b) False."
   ]
  },
  {
   "cell_type": "code",
   "execution_count": 12,
   "id": "d67cb45f",
   "metadata": {},
   "outputs": [
    {
     "name": "stdout",
     "output_type": "stream",
     "text": [
      "2\n"
     ]
    }
   ],
   "source": [
    "class MyStack:\n",
    "    def __init__(self, capacity):\n",
    "        self.__capacity = capacity\n",
    "        self.__stack = []\n",
    "    def isFull(self):\n",
    "        return len(self.__stack) == self.__capacity\n",
    "    def push(self, value):\n",
    "    ### Your Code Here\n",
    "        if not self.isFull():\n",
    "            self.__stack.insert(0,value)\n",
    "    ### End Code Here\n",
    "    def top(self):\n",
    "    ### Your Code Here\n",
    "        return self.__stack[0];\n",
    "    # End Code Here\n",
    "stack1 = MyStack(capacity=5)\n",
    "stack1.push(1)\n",
    "stack1.push(2)\n",
    "print(stack1.top())"
   ]
  },
  {
   "cell_type": "markdown",
   "id": "3549b60d",
   "metadata": {},
   "source": [
    "8 (b) 2."
   ]
  },
  {
   "cell_type": "code",
   "execution_count": 13,
   "id": "567090e6",
   "metadata": {},
   "outputs": [
    {
     "name": "stdout",
     "output_type": "stream",
     "text": [
      "False\n"
     ]
    }
   ],
   "source": [
    "class MyQueue:\n",
    "    def __init__(self, capacity):\n",
    "        self.__capacity = capacity\n",
    "        self.__queue = []\n",
    "    def isFull(self):\n",
    "        return len(self.__queue) == self.__capacity\n",
    "    def enqueue(self, value):\n",
    "    ### Your Code Here\n",
    "        if not self.isFull():\n",
    "            self.__queue.append(value)\n",
    "    ### End Code Here\n",
    "queue1 = MyQueue(capacity=5)\n",
    "queue1.enqueue(1)\n",
    "queue1.enqueue(2)\n",
    "print(queue1.isFull())"
   ]
  },
  {
   "cell_type": "markdown",
   "id": "71ae0ef2",
   "metadata": {},
   "source": [
    "9 (a) False."
   ]
  },
  {
   "cell_type": "code",
   "execution_count": 14,
   "id": "ec62f96c",
   "metadata": {},
   "outputs": [
    {
     "name": "stdout",
     "output_type": "stream",
     "text": [
      "1\n"
     ]
    }
   ],
   "source": [
    "class MyQueue:\n",
    "    def __init__(self, capacity):\n",
    "        self.__capacity = capacity\n",
    "        self.__queue = []\n",
    "    def isEmpty(self):\n",
    "        return len(self.__queue) == 0\n",
    "    def isFull(self):\n",
    "        return len(self.__queue) == self.__capacity\n",
    "    def dequeue(self):\n",
    "        if not self.isEmpty():\n",
    "            return self.__queue.pop(0)\n",
    "    def enqueue(self, value):\n",
    "        if not self.isFull():\n",
    "            self.__queue.append(value)\n",
    "    def front(self):\n",
    "        if not self.isEmpty():\n",
    "            return self.__queue[0]\n",
    "queue1 = MyQueue(capacity=5)\n",
    "queue1.enqueue(1)\n",
    "queue1.enqueue(2)\n",
    "print(queue1.front())"
   ]
  },
  {
   "cell_type": "markdown",
   "id": "94596ccc",
   "metadata": {},
   "source": [
    "10 (d) 1."
   ]
  }
 ],
 "metadata": {
  "kernelspec": {
   "display_name": "base",
   "language": "python",
   "name": "python3"
  },
  "language_info": {
   "codemirror_mode": {
    "name": "ipython",
    "version": 3
   },
   "file_extension": ".py",
   "mimetype": "text/x-python",
   "name": "python",
   "nbconvert_exporter": "python",
   "pygments_lexer": "ipython3",
   "version": "3.13.5"
  }
 },
 "nbformat": 4,
 "nbformat_minor": 5
}
